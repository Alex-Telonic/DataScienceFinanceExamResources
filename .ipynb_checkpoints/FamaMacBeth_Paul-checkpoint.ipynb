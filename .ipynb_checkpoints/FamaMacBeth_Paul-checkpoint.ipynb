{
 "cells": [
  {
   "cell_type": "code",
   "execution_count": 2,
   "metadata": {},
   "outputs": [],
   "source": [
    "import numpy as np\n",
    "import pandas as pd\n",
    "import copy\n",
    "import matplotlib.pyplot as plt\n",
    "import statsmodels.api as sm\n",
    "from statsmodels.formula.api import ols, gls"
   ]
  },
  {
   "cell_type": "code",
   "execution_count": 4,
   "metadata": {},
   "outputs": [],
   "source": [
    "rd = pd.read_csv(\"R_d.csv\", parse_dates = True, index_col = 0)"
   ]
  },
  {
   "cell_type": "code",
   "execution_count": 5,
   "metadata": {},
   "outputs": [
    {
     "data": {
      "text/plain": [
       "('RF_x', ['Mkt-RF', 'SMB', 'HML', 'RMW', 'CMA_x', 'ST_Rev', 'Mom   '])"
      ]
     },
     "execution_count": 5,
     "metadata": {},
     "output_type": "execute_result"
    }
   ],
   "source": [
    "factors = list(rd.columns)[:8]\n",
    "rf = factors.pop(5)\n",
    "k = 8\n",
    "rf, factors"
   ]
  },
  {
   "cell_type": "markdown",
   "metadata": {},
   "source": [
    "------"
   ]
  },
  {
   "cell_type": "code",
   "execution_count": 6,
   "metadata": {},
   "outputs": [],
   "source": [
    "from collections import namedtuple\n",
    "class FamaMacBeth:\n",
    "    \n",
    "    def __init__(self,df,rf,factors,k):\n",
    "        '''\n",
    "        df: dataframe with factors and stock returns\n",
    "        rf: String, name of column with risk-free returns\n",
    "        factors: list of strings with factors-columns\n",
    "        k: index of first stock column, stocks from k to end\n",
    "        '''\n",
    "        self.df = df.copy()\n",
    "        self.rf = rf\n",
    "        self.factors = factors\n",
    "        self.k = k\n",
    "        \n",
    "    def fit(self):\n",
    "\n",
    "        nrFactors = len(self.factors)\n",
    "        nrStocks = len(self.df.columns[k:])\n",
    "        nrT = self.df.shape[0]\n",
    "    \n",
    "        beta = pd.DataFrame(columns = self.factors)\n",
    "        betaR2 = pd.DataFrame(columns = ['R2_adj'])\n",
    "        lambdas = pd.DataFrame(columns = self.factors)\n",
    "        lambdasR2 = pd.DataFrame(columns = ['R2_adj'])\n",
    "        \n",
    "        X = self.df[self.factors]\n",
    "        X = sm.add_constant(X)\n",
    "        # for each stock: regress stock-rf onto factors\n",
    "        for i in range(nrStocks):\n",
    "            stock = self.df.columns[i+self.k]\n",
    "            Y = self.df[stock]-self.df[self.rf]\n",
    "            model = sm.GLS(Y,X)\n",
    "            results = model.fit()\n",
    "            beta.loc[stock]= list(results.params[1:])\n",
    "            betaR2.loc[stock] = results.rsquared_adj\n",
    "\n",
    "        X = beta.copy()\n",
    "        X = sm.add_constant(X)\n",
    "        # for each T: regress returns onto betas of factors \n",
    "        for i in range(nrT):\n",
    "            Y = self.df.iloc[i,self.k:]    #  Time-row  i of stocks\n",
    "            model = sm.GLS(Y,X)\n",
    "            results = model.fit()\n",
    "            lambdas.loc[self.df.index[i]] = list(results.params[1:])\n",
    "            lambdasR2.loc[self.df.index[i]] = results.rsquared_adj\n",
    "    \n",
    "        lambdas_fb = np.mean(lambdas, axis=0)\n",
    "        lambdas_std = lambdas.std(axis=0).values\n",
    "        lambdas_t = lambdas_fb/lambdas_std*np.sqrt(nrT)\n",
    "\n",
    "        lambdas_FB = pd.DataFrame(lambdas_fb,columns=['lambda'])\n",
    "        lambdas_T = pd.DataFrame(lambdas_t,columns=['tstat'])\n",
    "        \n",
    "        results = namedtuple('results', 'beta betaR2 lambdas lambdasR2 lambdas_FB lambdas_T')\n",
    "   \n",
    "        return results(beta, betaR2, lambdas, lambdasR2, lambdas_FB, lambdas_T)\n",
    "        \n"
   ]
  },
  {
   "cell_type": "code",
   "execution_count": 8,
   "metadata": {},
   "outputs": [],
   "source": [
    "model = FamaMacBeth(rd,rf,factors[:1],8)\n",
    "results = model.fit()"
   ]
  },
  {
   "cell_type": "code",
   "execution_count": 9,
   "metadata": {},
   "outputs": [
    {
     "data": {
      "text/html": [
       "<div>\n",
       "<style scoped>\n",
       "    .dataframe tbody tr th:only-of-type {\n",
       "        vertical-align: middle;\n",
       "    }\n",
       "\n",
       "    .dataframe tbody tr th {\n",
       "        vertical-align: top;\n",
       "    }\n",
       "\n",
       "    .dataframe thead th {\n",
       "        text-align: right;\n",
       "    }\n",
       "</style>\n",
       "<table border=\"1\" class=\"dataframe\">\n",
       "  <thead>\n",
       "    <tr style=\"text-align: right;\">\n",
       "      <th></th>\n",
       "      <th>lambda</th>\n",
       "    </tr>\n",
       "  </thead>\n",
       "  <tbody>\n",
       "    <tr>\n",
       "      <th>Mkt-RF</th>\n",
       "      <td>-0.000295</td>\n",
       "    </tr>\n",
       "  </tbody>\n",
       "</table>\n",
       "</div>"
      ],
      "text/plain": [
       "          lambda\n",
       "Mkt-RF -0.000295"
      ]
     },
     "execution_count": 9,
     "metadata": {},
     "output_type": "execute_result"
    }
   ],
   "source": [
    "results.lambdas_FB"
   ]
  },
  {
   "cell_type": "markdown",
   "metadata": {},
   "source": [
    "------------"
   ]
  },
  {
   "cell_type": "code",
   "execution_count": 10,
   "metadata": {},
   "outputs": [
    {
     "data": {
      "text/html": [
       "<div>\n",
       "<style scoped>\n",
       "    .dataframe tbody tr th:only-of-type {\n",
       "        vertical-align: middle;\n",
       "    }\n",
       "\n",
       "    .dataframe tbody tr th {\n",
       "        vertical-align: top;\n",
       "    }\n",
       "\n",
       "    .dataframe thead th {\n",
       "        text-align: right;\n",
       "    }\n",
       "</style>\n",
       "<table border=\"1\" class=\"dataframe\">\n",
       "  <thead>\n",
       "    <tr style=\"text-align: right;\">\n",
       "      <th></th>\n",
       "      <th>R2_adj</th>\n",
       "    </tr>\n",
       "  </thead>\n",
       "  <tbody>\n",
       "    <tr>\n",
       "      <th>MMM</th>\n",
       "      <td>0.461471</td>\n",
       "    </tr>\n",
       "    <tr>\n",
       "      <th>ABT</th>\n",
       "      <td>0.247895</td>\n",
       "    </tr>\n",
       "    <tr>\n",
       "      <th>ABMD</th>\n",
       "      <td>0.153617</td>\n",
       "    </tr>\n",
       "    <tr>\n",
       "      <th>ATVI</th>\n",
       "      <td>0.214177</td>\n",
       "    </tr>\n",
       "    <tr>\n",
       "      <th>ADBE</th>\n",
       "      <td>0.388135</td>\n",
       "    </tr>\n",
       "    <tr>\n",
       "      <th>...</th>\n",
       "      <td>...</td>\n",
       "    </tr>\n",
       "    <tr>\n",
       "      <th>XRX</th>\n",
       "      <td>0.270031</td>\n",
       "    </tr>\n",
       "    <tr>\n",
       "      <th>XLNX</th>\n",
       "      <td>0.366028</td>\n",
       "    </tr>\n",
       "    <tr>\n",
       "      <th>YUM</th>\n",
       "      <td>0.289810</td>\n",
       "    </tr>\n",
       "    <tr>\n",
       "      <th>ZBRA</th>\n",
       "      <td>0.292348</td>\n",
       "    </tr>\n",
       "    <tr>\n",
       "      <th>ZION</th>\n",
       "      <td>0.337975</td>\n",
       "    </tr>\n",
       "  </tbody>\n",
       "</table>\n",
       "<p>377 rows × 1 columns</p>\n",
       "</div>"
      ],
      "text/plain": [
       "        R2_adj\n",
       "MMM   0.461471\n",
       "ABT   0.247895\n",
       "ABMD  0.153617\n",
       "ATVI  0.214177\n",
       "ADBE  0.388135\n",
       "...        ...\n",
       "XRX   0.270031\n",
       "XLNX  0.366028\n",
       "YUM   0.289810\n",
       "ZBRA  0.292348\n",
       "ZION  0.337975\n",
       "\n",
       "[377 rows x 1 columns]"
      ]
     },
     "execution_count": 10,
     "metadata": {},
     "output_type": "execute_result"
    }
   ],
   "source": [
    "results.betaR2"
   ]
  },
  {
   "cell_type": "code",
   "execution_count": null,
   "metadata": {},
   "outputs": [],
   "source": []
  }
 ],
 "metadata": {
  "kernelspec": {
   "display_name": "Python 3",
   "language": "python",
   "name": "python3"
  },
  "language_info": {
   "codemirror_mode": {
    "name": "ipython",
    "version": 3
   },
   "file_extension": ".py",
   "mimetype": "text/x-python",
   "name": "python",
   "nbconvert_exporter": "python",
   "pygments_lexer": "ipython3",
   "version": "3.7.9"
  }
 },
 "nbformat": 4,
 "nbformat_minor": 4
}
